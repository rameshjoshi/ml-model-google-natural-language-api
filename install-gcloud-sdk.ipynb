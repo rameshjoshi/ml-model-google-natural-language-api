{
 "cells": [
  {
   "cell_type": "markdown",
   "id": "3128d7b8-be46-4815-a9f5-8d6534e71ad3",
   "metadata": {},
   "source": [
    "#  open a PowerShell terminal and input the below commands to download the installer and launch it.\n",
    "#(New-Object Net.WebClient).DownloadFile(\"https://dl.google.com/dl/cloudsdk/channels/rapid/GoogleCloudSDKInstaller.exe\", \"$env:Temp\\GoogleCloudSDKInstaller.exe\")\n",
    "# & $env:Temp\\GoogleCloudSDKInstaller.exe"
   ]
  },
  {
   "cell_type": "markdown",
   "id": "94332e93-ca40-4748-baf0-bd579e8db76c",
   "metadata": {},
   "source": [
    "# ********** Managing gcloud CLI components  *************\n",
    "You can list, install, update, and remove gcloud CLI components to suit your needs\n",
    "# Listing components\n",
    "gloud components list\n",
    "# Installing component\n",
    "gcloud components install [COMPONENT-ID]\n",
    "# Removing component\n",
    "gcloud components remove [COMPONENT-ID]"
   ]
  },
  {
   "cell_type": "code",
   "execution_count": 8,
   "id": "94565803-7aa6-404d-bceb-1b2e5a6d005c",
   "metadata": {},
   "outputs": [
    {
     "name": "stderr",
     "output_type": "stream",
     "text": [
      "'gcloud' is not recognized as an internal or external command,\n",
      "operable program or batch file.\n"
     ]
    }
   ],
   "source": [
    "!gcloud"
   ]
  }
 ],
 "metadata": {
  "kernelspec": {
   "display_name": "Python 3 (ipykernel)",
   "language": "python",
   "name": "python3"
  },
  "language_info": {
   "codemirror_mode": {
    "name": "ipython",
    "version": 3
   },
   "file_extension": ".py",
   "mimetype": "text/x-python",
   "name": "python",
   "nbconvert_exporter": "python",
   "pygments_lexer": "ipython3",
   "version": "3.12.1"
  }
 },
 "nbformat": 4,
 "nbformat_minor": 5
}
